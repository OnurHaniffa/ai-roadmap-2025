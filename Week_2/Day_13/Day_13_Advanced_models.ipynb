{
 "cells": [
  {
   "cell_type": "code",
   "execution_count": 13,
   "id": "7b69cb24",
   "metadata": {},
   "outputs": [],
   "source": [
    "# Day 13: Imports\n",
    "import pandas as pd\n",
    "import numpy as np\n",
    "from sklearn.model_selection import cross_val_score, GridSearchCV\n",
    "from sklearn.pipeline import Pipeline\n",
    "from sklearn.compose import ColumnTransformer\n",
    "from sklearn.preprocessing import StandardScaler, OneHotEncoder\n",
    "from sklearn.metrics import classification_report, accuracy_score, f1_score\n",
    "\n",
    "from sklearn.ensemble import GradientBoostingClassifier\n",
    "from sklearn.svm import SVC\n",
    "\n",
    "import matplotlib.pyplot as plt\n",
    "import seaborn as sns\n",
    "\n",
    "import joblib\n"
   ]
  },
  {
   "cell_type": "code",
   "execution_count": null,
   "id": "f74e8be6",
   "metadata": {},
   "outputs": [],
   "source": [
    "df=pd.read_csv('../Day_12/hr_data_cleaned_for_pipeline')\n",
    "df.head()"
   ]
  },
  {
   "cell_type": "code",
   "execution_count": 7,
   "id": "2397da1d",
   "metadata": {},
   "outputs": [],
   "source": [
    "X=df.drop('Attrition_num',axis=1)\n",
    "y=df['Attrition_num']\n",
    "\n",
    "numerical_col=X.select_dtypes(include=['int64','float64']).columns.tolist()\n",
    "categorical_col=X.select_dtypes(include=['object']).columns.tolist()\n",
    "\n",
    "\n",
    "                              "
   ]
  },
  {
   "cell_type": "code",
   "execution_count": 8,
   "id": "a31b7a7d",
   "metadata": {},
   "outputs": [
    {
     "name": "stdout",
     "output_type": "stream",
     "text": [
      "Gradient Boosting F1: 0.623875842725919\n",
      "SVM F1 0.5839307055910428\n"
     ]
    }
   ],
   "source": [
    "preprocessor= ColumnTransformer([\n",
    "    ('num',StandardScaler(),numerical_col),\n",
    "    ('cat',OneHotEncoder(handle_unknown='ignore'),categorical_col)\n",
    "])\n",
    "\n",
    "\n",
    "gb_pipeline=Pipeline([\n",
    "    ('preprocess',preprocessor),\n",
    "    ('classifier',GradientBoostingClassifier())\n",
    "])\n",
    "\n",
    "svm_pipeline=Pipeline([\n",
    "    ('preprocess',preprocessor),\n",
    "    ('classifier',SVC(kernel='rbf'))\n",
    "])\n",
    "\n",
    "gb_scores=cross_val_score(gb_pipeline,X,y,cv=5,scoring='f1_macro')\n",
    "svm_scores=cross_val_score(svm_pipeline,X,y,cv=5,scoring='f1_macro')\n",
    "\n",
    "print('Gradient Boosting F1:',gb_scores.mean())\n",
    "print('SVM F1',svm_scores.mean())"
   ]
  },
  {
   "cell_type": "code",
   "execution_count": 11,
   "id": "f6940aa6",
   "metadata": {},
   "outputs": [
    {
     "name": "stdout",
     "output_type": "stream",
     "text": [
      "Accuracy: 0.826530612244898\n",
      "Precision: 0.3888888888888889\n",
      "Recall: 0.14893617021276595\n",
      "F1 Score: 0.2153846153846154\n",
      "AUC Score: 0.7242656559565854\n",
      "\n",
      "Classification Report:\n",
      "               precision    recall  f1-score   support\n",
      "\n",
      "           0       0.86      0.96      0.90       247\n",
      "           1       0.39      0.15      0.22        47\n",
      "\n",
      "    accuracy                           0.83       294\n",
      "   macro avg       0.62      0.55      0.56       294\n",
      "weighted avg       0.78      0.83      0.79       294\n",
      "\n",
      "Confusion Matrix:\n",
      " [[236  11]\n",
      " [ 40   7]]\n"
     ]
    }
   ],
   "source": [
    "from sklearn.model_selection import train_test_split\n",
    "\n",
    "X_train, X_test, y_train, y_test = train_test_split(\n",
    "    X, y, test_size=0.2, random_state=42, stratify=y\n",
    ")\n",
    "\n",
    "\n",
    "gb_pipeline.fit(X_train, y_train)\n",
    "\n",
    "from sklearn.metrics import classification_report, confusion_matrix, roc_auc_score, accuracy_score, precision_score, recall_score, f1_score\n",
    "\n",
    "# Make predictions on test set\n",
    "y_pred = gb_pipeline.predict(X_test)\n",
    "y_proba = gb_pipeline.predict_proba(X_test)[:, 1]  # for AUC\n",
    "\n",
    "# Metrics\n",
    "print(\"Accuracy:\", accuracy_score(y_test, y_pred))\n",
    "print(\"Precision:\", precision_score(y_test, y_pred))\n",
    "print(\"Recall:\", recall_score(y_test, y_pred))\n",
    "print(\"F1 Score:\", f1_score(y_test, y_pred))\n",
    "print(\"AUC Score:\", roc_auc_score(y_test, y_proba))\n",
    "\n",
    "# Classification Report\n",
    "print(\"\\nClassification Report:\\n\", classification_report(y_test, y_pred))\n",
    "\n",
    "# Confusion Matrix\n",
    "print(\"Confusion Matrix:\\n\", confusion_matrix(y_test, y_pred))\n"
   ]
  },
  {
   "cell_type": "code",
   "execution_count": 12,
   "id": "9238946e",
   "metadata": {},
   "outputs": [
    {
     "data": {
      "text/plain": [
       "['gb_model.pkl']"
      ]
     },
     "execution_count": 12,
     "metadata": {},
     "output_type": "execute_result"
    }
   ],
   "source": [
    "joblib.dump(gb_pipeline, \"gb_model.pkl\")"
   ]
  }
 ],
 "metadata": {
  "kernelspec": {
   "display_name": ".venv",
   "language": "python",
   "name": "python3"
  },
  "language_info": {
   "codemirror_mode": {
    "name": "ipython",
    "version": 3
   },
   "file_extension": ".py",
   "mimetype": "text/x-python",
   "name": "python",
   "nbconvert_exporter": "python",
   "pygments_lexer": "ipython3",
   "version": "3.11.13"
  }
 },
 "nbformat": 4,
 "nbformat_minor": 5
}
